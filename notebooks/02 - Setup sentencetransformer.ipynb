{
 "cells": [
  {
   "cell_type": "code",
   "execution_count": null,
   "id": "bce6c546-9305-4c06-8c58-4d1c6152530a",
   "metadata": {},
   "outputs": [],
   "source": [
    "import numpy as np\n",
    "\n",
    "from tiger.data.amazon import AmazonDataset\n",
    "from tiger.models.sentence_encoder import SentenceEncoder"
   ]
  },
  {
   "cell_type": "code",
   "execution_count": null,
   "id": "526be1df-9918-4b6e-83b6-c7cca97cb19f",
   "metadata": {},
   "outputs": [],
   "source": [
    "ds = AmazonDataset('Beauty', 2014, 5, '../data/')\n",
    "se = SentenceEncoder('../models/sentence-transformer/')"
   ]
  },
  {
   "cell_type": "code",
   "execution_count": null,
   "id": "c951cf3a-726f-45e8-b390-8c2e88312324",
   "metadata": {},
   "outputs": [],
   "source": [
    "embeddings = se.encode(ds.items)"
   ]
  },
  {
   "cell_type": "code",
   "execution_count": null,
   "id": "e2581d4f-bf0c-439f-84a9-ab80c7f7abe9",
   "metadata": {},
   "outputs": [],
   "source": [
    "with open(f'../data/processed/{ds.year}/{ds.category}_sentence_embeddings.npy', 'wb') as f:\n",
    "    np.save(f, embeddings)"
   ]
  }
 ],
 "metadata": {
  "kernelspec": {
   "display_name": "Python 3 (ipykernel)",
   "language": "python",
   "name": "python3"
  },
  "language_info": {
   "codemirror_mode": {
    "name": "ipython",
    "version": 3
   },
   "file_extension": ".py",
   "mimetype": "text/x-python",
   "name": "python",
   "nbconvert_exporter": "python",
   "pygments_lexer": "ipython3",
   "version": "3.10.12"
  }
 },
 "nbformat": 4,
 "nbformat_minor": 5
}
