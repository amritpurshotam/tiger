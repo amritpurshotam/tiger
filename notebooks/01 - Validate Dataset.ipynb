{
 "cells": [
  {
   "cell_type": "markdown",
   "id": "dbccc6e7-523c-4e76-b0f8-f9c3f322ee8d",
   "metadata": {},
   "source": [
    "# Validate Dataset"
   ]
  },
  {
   "cell_type": "markdown",
   "id": "98746bc7-cdf0-49b4-a1b5-396bb41f4f98",
   "metadata": {},
   "source": [
    "The paper references the Amazon Review 2014 dataset with some statistics. This is to verify the information is the same and ensure we use the same dataset to replicate."
   ]
  },
  {
   "cell_type": "code",
   "execution_count": 7,
   "id": "49168bab-4ab4-4292-b0e6-5ab908f0fbd4",
   "metadata": {},
   "outputs": [],
   "source": [
    "import pandas as pd\n",
    "from tiger.data.amazon import AmazonDataset"
   ]
  },
  {
   "cell_type": "code",
   "execution_count": 2,
   "id": "be4fc5fe-6622-4d1a-b83a-e3487d11b9fc",
   "metadata": {},
   "outputs": [],
   "source": [
    "MIN_REVIEWS_PER_USER = 5\n",
    "SEQUENCE_LENGTH = 20"
   ]
  },
  {
   "cell_type": "code",
   "execution_count": 3,
   "id": "d0dfd0fe-e42a-4c60-8759-79281e5f968f",
   "metadata": {},
   "outputs": [],
   "source": [
    "beauty_ds = AmazonDataset(\"Beauty\", 2014, MIN_REVIEWS_PER_USER, \"../data\")"
   ]
  },
  {
   "cell_type": "code",
   "execution_count": 4,
   "id": "e5940829-f392-4b00-884d-611b8de7ffcb",
   "metadata": {},
   "outputs": [],
   "source": [
    "sports_ds = AmazonDataset(\"Sports_and_Outdoors\", 2014, MIN_REVIEWS_PER_USER, \"../data\")"
   ]
  },
  {
   "cell_type": "code",
   "execution_count": 5,
   "id": "409cef30-c4c9-4e4f-86fe-109581750c3b",
   "metadata": {},
   "outputs": [],
   "source": [
    "toys_ds = AmazonDataset(\"Toys_and_Games\", 2014, MIN_REVIEWS_PER_USER, \"../data\")"
   ]
  },
  {
   "cell_type": "code",
   "execution_count": 8,
   "id": "541d583e-ce13-42b7-a2c3-d7d3aafc470b",
   "metadata": {},
   "outputs": [
    {
     "data": {
      "text/html": [
       "<div>\n",
       "<style scoped>\n",
       "    .dataframe tbody tr th:only-of-type {\n",
       "        vertical-align: middle;\n",
       "    }\n",
       "\n",
       "    .dataframe tbody tr th {\n",
       "        vertical-align: top;\n",
       "    }\n",
       "\n",
       "    .dataframe thead th {\n",
       "        text-align: right;\n",
       "    }\n",
       "</style>\n",
       "<table border=\"1\" class=\"dataframe\">\n",
       "  <thead>\n",
       "    <tr style=\"text-align: right;\">\n",
       "      <th></th>\n",
       "      <th>dataset</th>\n",
       "      <th>num_users</th>\n",
       "      <th>num_items</th>\n",
       "      <th>num_reviews</th>\n",
       "      <th>avg_reviews_per_user</th>\n",
       "      <th>median_reviews_per_user</th>\n",
       "      <th>mean_reviews_per_item</th>\n",
       "      <th>sparsity</th>\n",
       "    </tr>\n",
       "  </thead>\n",
       "  <tbody>\n",
       "    <tr>\n",
       "      <th>0</th>\n",
       "      <td>Beauty</td>\n",
       "      <td>52374</td>\n",
       "      <td>121291</td>\n",
       "      <td>469771</td>\n",
       "      <td>8.969546</td>\n",
       "      <td>7.0</td>\n",
       "      <td>3.873090</td>\n",
       "      <td>0.999926</td>\n",
       "    </tr>\n",
       "    <tr>\n",
       "      <th>1</th>\n",
       "      <td>Sports_and_Outdoors</td>\n",
       "      <td>84368</td>\n",
       "      <td>194715</td>\n",
       "      <td>717464</td>\n",
       "      <td>8.503983</td>\n",
       "      <td>6.0</td>\n",
       "      <td>3.684688</td>\n",
       "      <td>0.999956</td>\n",
       "    </tr>\n",
       "    <tr>\n",
       "      <th>2</th>\n",
       "      <td>Toys_and_Games</td>\n",
       "      <td>58315</td>\n",
       "      <td>165371</td>\n",
       "      <td>525535</td>\n",
       "      <td>9.012004</td>\n",
       "      <td>6.0</td>\n",
       "      <td>3.177915</td>\n",
       "      <td>0.999946</td>\n",
       "    </tr>\n",
       "  </tbody>\n",
       "</table>\n",
       "</div>"
      ],
      "text/plain": [
       "               dataset  num_users  num_items  num_reviews  \\\n",
       "0               Beauty      52374     121291       469771   \n",
       "1  Sports_and_Outdoors      84368     194715       717464   \n",
       "2       Toys_and_Games      58315     165371       525535   \n",
       "\n",
       "   avg_reviews_per_user  median_reviews_per_user  mean_reviews_per_item  \\\n",
       "0              8.969546                      7.0               3.873090   \n",
       "1              8.503983                      6.0               3.684688   \n",
       "2              9.012004                      6.0               3.177915   \n",
       "\n",
       "   sparsity  \n",
       "0  0.999926  \n",
       "1  0.999956  \n",
       "2  0.999946  "
      ]
     },
     "execution_count": 8,
     "metadata": {},
     "output_type": "execute_result"
    }
   ],
   "source": [
    "pd.DataFrame.from_records([beauty_ds.calculate_stats(), sports_ds.calculate_stats(), toys_ds.calculate_stats()])"
   ]
  },
  {
   "cell_type": "markdown",
   "id": "54d4018d-fc9a-4509-951e-081927b50454",
   "metadata": {},
   "source": [
    "# 2013 Amazon Data Processing (Temp)"
   ]
  },
  {
   "cell_type": "code",
   "execution_count": 159,
   "id": "afa3fea3-b4ec-46bf-9d88-be0d673732f2",
   "metadata": {},
   "outputs": [],
   "source": [
    "import gzip\n",
    "import json  # Replace simplejson with the built-in json module in Python 3\n",
    "\n",
    "def parse(filename):\n",
    "    with gzip.open(filename, 'rt', encoding='utf-8') as f:  # Open file in text mode with utf-8 encoding\n",
    "        entry = {}\n",
    "        for l in f:\n",
    "            l = l.strip()\n",
    "            colonPos = l.find(':')\n",
    "            if colonPos == -1:\n",
    "                yield entry\n",
    "                entry = {}\n",
    "                continue\n",
    "            eName = l[:colonPos]\n",
    "            rest = l[colonPos+2:]\n",
    "            entry[eName] = rest\n",
    "        yield entry  # Yield last entry if file ends without an empty line\n",
    "\n",
    "rows = []\n",
    "for e in parse(\"../data/raw/2013/Beauty.txt.gz\"):\n",
    "    rows.append(eval(json.dumps(e)))"
   ]
  },
  {
   "cell_type": "code",
   "execution_count": 160,
   "id": "ec6efabd-c770-43b2-ad6c-9a3a66abf782",
   "metadata": {},
   "outputs": [],
   "source": [
    "test = pd.DataFrame.from_dict(rows)"
   ]
  },
  {
   "cell_type": "code",
   "execution_count": 164,
   "id": "b86ca102-97ac-4975-bcca-87d6271df17e",
   "metadata": {},
   "outputs": [
    {
     "data": {
      "text/html": [
       "<div>\n",
       "<style scoped>\n",
       "    .dataframe tbody tr th:only-of-type {\n",
       "        vertical-align: middle;\n",
       "    }\n",
       "\n",
       "    .dataframe tbody tr th {\n",
       "        vertical-align: top;\n",
       "    }\n",
       "\n",
       "    .dataframe thead th {\n",
       "        text-align: right;\n",
       "    }\n",
       "</style>\n",
       "<table border=\"1\" class=\"dataframe\">\n",
       "  <thead>\n",
       "    <tr style=\"text-align: right;\">\n",
       "      <th></th>\n",
       "      <th>product/productId</th>\n",
       "      <th>product/title</th>\n",
       "      <th>product/price</th>\n",
       "      <th>review/userId</th>\n",
       "      <th>review/profileName</th>\n",
       "      <th>review/helpfulness</th>\n",
       "      <th>review/score</th>\n",
       "      <th>review/time</th>\n",
       "      <th>review/summary</th>\n",
       "      <th>review/text</th>\n",
       "    </tr>\n",
       "  </thead>\n",
       "  <tbody>\n",
       "    <tr>\n",
       "      <th>0</th>\n",
       "      <td>B00064C0IU</td>\n",
       "      <td>Oscar Eau de Toilette for Women by Oscar de La...</td>\n",
       "      <td>24.19</td>\n",
       "      <td>A1FWT811DSZLC8</td>\n",
       "      <td>Heidi M</td>\n",
       "      <td>0/0</td>\n",
       "      <td>3.0</td>\n",
       "      <td>1360368000</td>\n",
       "      <td>doesn't last</td>\n",
       "      <td>very light scent that doesn't last very long. ...</td>\n",
       "    </tr>\n",
       "    <tr>\n",
       "      <th>1</th>\n",
       "      <td>B00064C0IU</td>\n",
       "      <td>Oscar Eau de Toilette for Women by Oscar de La...</td>\n",
       "      <td>24.19</td>\n",
       "      <td>A1THE6V6O8ROD4</td>\n",
       "      <td>Donna Mpaulin \"PURPLE RAVEN\"</td>\n",
       "      <td>0/0</td>\n",
       "      <td>5.0</td>\n",
       "      <td>1358467200</td>\n",
       "      <td>Smells divine.</td>\n",
       "      <td>This is my second bottle of sheer freesia, I j...</td>\n",
       "    </tr>\n",
       "    <tr>\n",
       "      <th>2</th>\n",
       "      <td>B00064C0IU</td>\n",
       "      <td>Oscar Eau de Toilette for Women by Oscar de La...</td>\n",
       "      <td>24.19</td>\n",
       "      <td>A176IQ7MVD3N6T</td>\n",
       "      <td>M. Avila</td>\n",
       "      <td>0/0</td>\n",
       "      <td>1.0</td>\n",
       "      <td>1357084800</td>\n",
       "      <td>Very disappointed!</td>\n",
       "      <td>This perfume is just AWFUL! Smells nothing lik...</td>\n",
       "    </tr>\n",
       "    <tr>\n",
       "      <th>3</th>\n",
       "      <td>B00064C0IU</td>\n",
       "      <td>Oscar Eau de Toilette for Women by Oscar de La...</td>\n",
       "      <td>24.19</td>\n",
       "      <td>A34BDX4JVMG23Y</td>\n",
       "      <td>Kim M. Colt</td>\n",
       "      <td>0/0</td>\n",
       "      <td>5.0</td>\n",
       "      <td>1326240000</td>\n",
       "      <td>Nice gift</td>\n",
       "      <td>This was a gift for my sister. It wowed her. S...</td>\n",
       "    </tr>\n",
       "    <tr>\n",
       "      <th>4</th>\n",
       "      <td>B000K5JBZU</td>\n",
       "      <td>Optimum Care Anti-Breakage Therapy Moisture Re...</td>\n",
       "      <td>5.99</td>\n",
       "      <td>A3UWJXJI7S3T05</td>\n",
       "      <td>PloveJ</td>\n",
       "      <td>1/1</td>\n",
       "      <td>5.0</td>\n",
       "      <td>1351987200</td>\n",
       "      <td>TRULY MADE A DIFFERENCE!</td>\n",
       "      <td>I have been using this product for a couple ye...</td>\n",
       "    </tr>\n",
       "    <tr>\n",
       "      <th>...</th>\n",
       "      <td>...</td>\n",
       "      <td>...</td>\n",
       "      <td>...</td>\n",
       "      <td>...</td>\n",
       "      <td>...</td>\n",
       "      <td>...</td>\n",
       "      <td>...</td>\n",
       "      <td>...</td>\n",
       "      <td>...</td>\n",
       "      <td>...</td>\n",
       "    </tr>\n",
       "    <tr>\n",
       "      <th>252052</th>\n",
       "      <td>B00025X06E</td>\n",
       "      <td>Goldleaf Perfumed Body Cream 230ml</td>\n",
       "      <td>28.00</td>\n",
       "      <td>A3M174IC0VXOS2</td>\n",
       "      <td>Gail Cooke</td>\n",
       "      <td>1/1</td>\n",
       "      <td>5.0</td>\n",
       "      <td>1250467200</td>\n",
       "      <td>A SWEET SCENT</td>\n",
       "      <td>Since its founding in 1982 Thymes has won legi...</td>\n",
       "    </tr>\n",
       "    <tr>\n",
       "      <th>252053</th>\n",
       "      <td>B00025X06E</td>\n",
       "      <td>Goldleaf Perfumed Body Cream 230ml</td>\n",
       "      <td>28.00</td>\n",
       "      <td>A2SZ9BG00RYAHG</td>\n",
       "      <td>&amp;#34;Janie&amp;#34;</td>\n",
       "      <td>0/0</td>\n",
       "      <td>5.0</td>\n",
       "      <td>1262476800</td>\n",
       "      <td>Luscious!!!</td>\n",
       "      <td>I love love love this item!!! The scent is lik...</td>\n",
       "    </tr>\n",
       "    <tr>\n",
       "      <th>252054</th>\n",
       "      <td>B000BR64OS</td>\n",
       "      <td>Guerlain Vetiver Eau de Toilette</td>\n",
       "      <td>unknown</td>\n",
       "      <td>A13NEK0V8EMHPO</td>\n",
       "      <td>PA Fishing Maps</td>\n",
       "      <td>6/6</td>\n",
       "      <td>2.0</td>\n",
       "      <td>1321228800</td>\n",
       "      <td>This is the new formula- NOT vintage as pictured</td>\n",
       "      <td>Received the order very quickly but what arriv...</td>\n",
       "    </tr>\n",
       "    <tr>\n",
       "      <th>252055</th>\n",
       "      <td>B000BR64OS</td>\n",
       "      <td>Guerlain Vetiver Eau de Toilette</td>\n",
       "      <td>unknown</td>\n",
       "      <td>AAX3RFP8NWI1U</td>\n",
       "      <td>Terry Grabow</td>\n",
       "      <td>0/1</td>\n",
       "      <td>5.0</td>\n",
       "      <td>1329177600</td>\n",
       "      <td>Great value for the Scents!!</td>\n",
       "      <td>Have been using this cologne since at least 19...</td>\n",
       "    </tr>\n",
       "    <tr>\n",
       "      <th>252056</th>\n",
       "      <td>NaN</td>\n",
       "      <td>NaN</td>\n",
       "      <td>NaN</td>\n",
       "      <td>NaN</td>\n",
       "      <td>NaN</td>\n",
       "      <td>NaN</td>\n",
       "      <td>NaN</td>\n",
       "      <td>NaN</td>\n",
       "      <td>NaN</td>\n",
       "      <td>NaN</td>\n",
       "    </tr>\n",
       "  </tbody>\n",
       "</table>\n",
       "<p>252057 rows × 10 columns</p>\n",
       "</div>"
      ],
      "text/plain": [
       "       product/productId                                      product/title  \\\n",
       "0             B00064C0IU  Oscar Eau de Toilette for Women by Oscar de La...   \n",
       "1             B00064C0IU  Oscar Eau de Toilette for Women by Oscar de La...   \n",
       "2             B00064C0IU  Oscar Eau de Toilette for Women by Oscar de La...   \n",
       "3             B00064C0IU  Oscar Eau de Toilette for Women by Oscar de La...   \n",
       "4             B000K5JBZU  Optimum Care Anti-Breakage Therapy Moisture Re...   \n",
       "...                  ...                                                ...   \n",
       "252052        B00025X06E                 Goldleaf Perfumed Body Cream 230ml   \n",
       "252053        B00025X06E                 Goldleaf Perfumed Body Cream 230ml   \n",
       "252054        B000BR64OS                   Guerlain Vetiver Eau de Toilette   \n",
       "252055        B000BR64OS                   Guerlain Vetiver Eau de Toilette   \n",
       "252056               NaN                                                NaN   \n",
       "\n",
       "       product/price   review/userId            review/profileName  \\\n",
       "0              24.19  A1FWT811DSZLC8                       Heidi M   \n",
       "1              24.19  A1THE6V6O8ROD4  Donna Mpaulin \"PURPLE RAVEN\"   \n",
       "2              24.19  A176IQ7MVD3N6T                      M. Avila   \n",
       "3              24.19  A34BDX4JVMG23Y                   Kim M. Colt   \n",
       "4               5.99  A3UWJXJI7S3T05                        PloveJ   \n",
       "...              ...             ...                           ...   \n",
       "252052         28.00  A3M174IC0VXOS2                    Gail Cooke   \n",
       "252053         28.00  A2SZ9BG00RYAHG               &#34;Janie&#34;   \n",
       "252054       unknown  A13NEK0V8EMHPO               PA Fishing Maps   \n",
       "252055       unknown   AAX3RFP8NWI1U                  Terry Grabow   \n",
       "252056           NaN             NaN                           NaN   \n",
       "\n",
       "       review/helpfulness review/score review/time  \\\n",
       "0                     0/0          3.0  1360368000   \n",
       "1                     0/0          5.0  1358467200   \n",
       "2                     0/0          1.0  1357084800   \n",
       "3                     0/0          5.0  1326240000   \n",
       "4                     1/1          5.0  1351987200   \n",
       "...                   ...          ...         ...   \n",
       "252052                1/1          5.0  1250467200   \n",
       "252053                0/0          5.0  1262476800   \n",
       "252054                6/6          2.0  1321228800   \n",
       "252055                0/1          5.0  1329177600   \n",
       "252056                NaN          NaN         NaN   \n",
       "\n",
       "                                          review/summary  \\\n",
       "0                                           doesn't last   \n",
       "1                                         Smells divine.   \n",
       "2                                     Very disappointed!   \n",
       "3                                              Nice gift   \n",
       "4                               TRULY MADE A DIFFERENCE!   \n",
       "...                                                  ...   \n",
       "252052                                     A SWEET SCENT   \n",
       "252053                                       Luscious!!!   \n",
       "252054  This is the new formula- NOT vintage as pictured   \n",
       "252055                      Great value for the Scents!!   \n",
       "252056                                               NaN   \n",
       "\n",
       "                                              review/text  \n",
       "0       very light scent that doesn't last very long. ...  \n",
       "1       This is my second bottle of sheer freesia, I j...  \n",
       "2       This perfume is just AWFUL! Smells nothing lik...  \n",
       "3       This was a gift for my sister. It wowed her. S...  \n",
       "4       I have been using this product for a couple ye...  \n",
       "...                                                   ...  \n",
       "252052  Since its founding in 1982 Thymes has won legi...  \n",
       "252053  I love love love this item!!! The scent is lik...  \n",
       "252054  Received the order very quickly but what arriv...  \n",
       "252055  Have been using this cologne since at least 19...  \n",
       "252056                                                NaN  \n",
       "\n",
       "[252057 rows x 10 columns]"
      ]
     },
     "execution_count": 164,
     "metadata": {},
     "output_type": "execute_result"
    }
   ],
   "source": [
    "test"
   ]
  },
  {
   "cell_type": "code",
   "execution_count": 166,
   "id": "0e8b5f90-988f-4502-915e-8d1dd76a618e",
   "metadata": {},
   "outputs": [],
   "source": [
    "rc = test[['review/userId', 'product/productId']].groupby('review/userId').count().reset_index().rename({'product/productId': 'count'}, axis=1)\n",
    "rc = rc.pipe(filter_less_than_k_reviews, k=5, col='count')"
   ]
  },
  {
   "cell_type": "code",
   "execution_count": 169,
   "id": "81adf790-b061-40d4-abfe-80d885f12212",
   "metadata": {},
   "outputs": [
    {
     "data": {
      "text/plain": [
       "(4327, 2)"
      ]
     },
     "execution_count": 169,
     "metadata": {},
     "output_type": "execute_result"
    }
   ],
   "source": [
    "rc.shape"
   ]
  },
  {
   "cell_type": "code",
   "execution_count": 171,
   "id": "6a3ef607-8050-4de7-9dfc-ac17a07ed535",
   "metadata": {},
   "outputs": [
    {
     "data": {
      "text/plain": [
       "(10248,)"
      ]
     },
     "execution_count": 171,
     "metadata": {},
     "output_type": "execute_result"
    }
   ],
   "source": [
    "test[test['review/userId'].isin(rc['review/userId'].tolist())]['product/productId'].unique().shape"
   ]
  },
  {
   "cell_type": "code",
   "execution_count": 172,
   "id": "4f5913a6-53e4-4882-9165-1a70037a6865",
   "metadata": {},
   "outputs": [
    {
     "data": {
      "text/plain": [
       "np.float64(10.652646175179108)"
      ]
     },
     "execution_count": 172,
     "metadata": {},
     "output_type": "execute_result"
    }
   ],
   "source": [
    "rc['count'].mean()"
   ]
  },
  {
   "cell_type": "code",
   "execution_count": null,
   "id": "7c4f91f5-6e7d-4d6f-8832-100302163a20",
   "metadata": {},
   "outputs": [],
   "source": []
  }
 ],
 "metadata": {
  "kernelspec": {
   "display_name": "Python 3 (ipykernel)",
   "language": "python",
   "name": "python3"
  },
  "language_info": {
   "codemirror_mode": {
    "name": "ipython",
    "version": 3
   },
   "file_extension": ".py",
   "mimetype": "text/x-python",
   "name": "python",
   "nbconvert_exporter": "python",
   "pygments_lexer": "ipython3",
   "version": "3.10.12"
  }
 },
 "nbformat": 4,
 "nbformat_minor": 5
}
